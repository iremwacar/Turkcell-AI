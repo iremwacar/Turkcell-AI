{
 "cells": [
  {
   "cell_type": "code",
   "execution_count": null,
   "metadata": {},
   "outputs": [],
   "source": [
    "Bir öğrenci yönetim sistemi için aşağıdaki veri yapısı verilmiştir:\n",
    "\n",
    "students = [ {\"name\": \"Ali\", \"grades\": {\"math\": 85, \"physics\": 90, \"history\": 78}}, \n",
    "{\"name\": \"Ayşe\", \"grades\": {\"math\": 92, \"physics\": 88, \"history\": 95}}, \n",
    "{\"name\": \"Mehmet\", \"grades\": {\"math\": 75, \"physics\": 80, \"history\": 85}}, \n",
    "{\"name\": \"Zeynep\", \"grades\": {\"math\": 90, \"physics\": 85, \"history\": 88}}, ] \n",
    "Yapılması gerekenler: \n",
    "1.En yüksek matematik notuna sahip öğrencinin adını bulun. \n",
    "2.Tüm derslerin ortalama notlarını içeren bir sözlük oluşturun. \n",
    "3.Ortalama notu 85'in üzerinde olan öğrencileri bir liste halinde döndürün. \n",
    "Bunu en verimli şekilde Python kodu ile nasıl yaparsınız?"
   ]
  },
  {
   "cell_type": "code",
   "execution_count": 15,
   "metadata": {},
   "outputs": [],
   "source": [
    "\n",
    "students = [ {\"name\": \"Ali\", \"grades\": {\"math\": 85, \"physics\": 90, \"history\": 78}}, \n",
    "{\"name\": \"Ayşe\", \"grades\": {\"math\": 92, \"physics\": 88, \"history\": 95}}, \n",
    "{\"name\": \"Mehmet\", \"grades\": {\"math\": 75, \"physics\": 80, \"history\": 85}}, \n",
    "{\"name\": \"Zeynep\", \"grades\": {\"math\": 90, \"physics\": 85, \"history\": 88}}, ] "
   ]
  },
  {
   "cell_type": "code",
   "execution_count": 19,
   "metadata": {},
   "outputs": [
    {
     "data": {
      "text/plain": [
       "'Ayşe'"
      ]
     },
     "execution_count": 19,
     "metadata": {},
     "output_type": "execute_result"
    }
   ],
   "source": [
    "def en_yuksek_matematik_notu(students):\n",
    "    top_student = students[0]  \n",
    "    for student in students:\n",
    "        if student[\"grades\"][\"math\"] > top_student[\"grades\"][\"math\"]:\n",
    "            top_student = student  \n",
    "    return top_student[\"name\"]\n",
    "\n",
    "en_yuksek_matematik_notu(students)"
   ]
  },
  {
   "cell_type": "code",
   "execution_count": 22,
   "metadata": {},
   "outputs": [
    {
     "name": "stdout",
     "output_type": "stream",
     "text": [
      "Tüm derslerin ortalama notları: {'math': 85.5, 'physics': 85.75, 'history': 86.5}\n"
     ]
    }
   ],
   "source": [
    "def calculate_average_grades(student_data):\n",
    "    total_math = sum(student[\"grades\"][\"math\"] for student in student_data)\n",
    "    total_physics = sum(student[\"grades\"][\"physics\"] for student in student_data)\n",
    "    total_history = sum(student[\"grades\"][\"history\"] for student in student_data)\n",
    "\n",
    "    average_grades = {\n",
    "        \"math\": total_math / len(student_data),\n",
    "        \"physics\": total_physics / len(student_data),\n",
    "        \"history\": total_history / len(student_data)\n",
    "    }\n",
    "    return average_grades\n",
    "average_grades = calculate_average_grades(students)\n",
    "print(f\"Tüm derslerin ortalama notları: {average_grades}\")"
   ]
  },
  {
   "cell_type": "code",
   "execution_count": 24,
   "metadata": {},
   "outputs": [
    {
     "data": {
      "text/plain": [
       "['Ayşe', 'Zeynep']"
      ]
     },
     "execution_count": 24,
     "metadata": {},
     "output_type": "execute_result"
    }
   ],
   "source": [
    "def ortalamasi_85_ustu_olan_ogrenciler(students):\n",
    "    basarili_ogrenciler = []  \n",
    "    for student in students:\n",
    "        avg_grade = sum(student[\"grades\"].values()) / len(student[\"grades\"])  \n",
    "        if avg_grade > 85:\n",
    "            basarili_ogrenciler.append(student[\"name\"])\n",
    "    return basarili_ogrenciler\n",
    "\n",
    "ortalamasi_85_ustu_olan_ogrenciler(students)"
   ]
  }
 ],
 "metadata": {
  "kernelspec": {
   "display_name": "BTK-AI",
   "language": "python",
   "name": "python3"
  },
  "language_info": {
   "codemirror_mode": {
    "name": "ipython",
    "version": 3
   },
   "file_extension": ".py",
   "mimetype": "text/x-python",
   "name": "python",
   "nbconvert_exporter": "python",
   "pygments_lexer": "ipython3",
   "version": "3.11.9"
  }
 },
 "nbformat": 4,
 "nbformat_minor": 2
}
