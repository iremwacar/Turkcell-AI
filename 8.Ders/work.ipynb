{
 "cells": [
  {
   "cell_type": "code",
   "execution_count": 2,
   "metadata": {},
   "outputs": [],
   "source": [
    "import pandas as pd\n",
    "import numpy as np"
   ]
  },
  {
   "cell_type": "code",
   "execution_count": 3,
   "metadata": {},
   "outputs": [],
   "source": [
    "df = pd.read_json(\"random_dataset.json\")#json dosyası bu şekilde okunuyor."
   ]
  },
  {
   "cell_type": "code",
   "execution_count": 4,
   "metadata": {},
   "outputs": [
    {
     "name": "stdout",
     "output_type": "stream",
     "text": [
      "Eksik veri sayısı:\n",
      " product_id           0\n",
      "customer_id          0\n",
      "product_name         0\n",
      "categories         115\n",
      "price              102\n",
      "purchaseDate        98\n",
      "quantity            83\n",
      "customers_score      0\n",
      "dtype: int64\n"
     ]
    }
   ],
   "source": [
    "print(\"Eksik veri sayısı:\\n\", df.isna().sum())"
   ]
  },
  {
   "cell_type": "code",
   "execution_count": 5,
   "metadata": {},
   "outputs": [
    {
     "name": "stdout",
     "output_type": "stream",
     "text": [
      "categories\n",
      "Electronics    443\n",
      "Fashion        181\n",
      "None           115\n",
      "Furniture       96\n",
      "Footwear        88\n",
      "Accessories     77\n",
      "Name: count, dtype: int64\n",
      "purchaseDate\n",
      "20/04/2022    3\n",
      "2021/11/24    3\n",
      "2023/07/11    3\n",
      "11/01/2020    2\n",
      "2024/05/11    2\n",
      "             ..\n",
      "2021/05/09    1\n",
      "10-03-2023    1\n",
      "2023/09/25    1\n",
      "07-06-2024    1\n",
      "05/01/2023    1\n",
      "Name: count, Length: 745, dtype: int64\n",
      "product_id         0\n",
      "customer_id        0\n",
      "product_name       0\n",
      "categories         0\n",
      "price              0\n",
      "purchaseDate       0\n",
      "quantity           0\n",
      "customers_score    0\n",
      "dtype: int64\n"
     ]
    }
   ],
   "source": [
    "#CATEGORİES\n",
    "#Kategori sutunlarının kaç kez tekrar ettiğini buluyoruz.\n",
    "number_of_categories = df[\"categories\"].value_counts(dropna=False)\n",
    "print(number_of_categories)\n",
    "#eksik verileri siliyoruz\n",
    "df = df.dropna(subset=[\"categories\"])\n",
    "\n",
    "#PRİCE\n",
    "#Her kategoriye ait ortalama alıp price null değerlerine atıyoruz.\n",
    "df[\"price\"] = df.groupby(\"categories\")[\"price\"].transform(lambda x: x.fillna(x.mean()))\n",
    "\n",
    "\n",
    "#QUANTİTY\n",
    "#Her kategoriye ait ortalama alıp quantity null değerlerine atıyoruz.\n",
    "df[\"quantity\"] = df.groupby(\"categories\")[\"quantity\"].transform(lambda x: x.fillna(x.mean()))\n",
    "\n",
    "\n",
    "#DATE\n",
    "#Belirli bir tarihte çok fazla alışveriş yapılmış mı kontrol ediyoruz.\n",
    "print(df[\"purchaseDate\"].value_counts())\n",
    "\n",
    "#eksik verileri siliyoruz\n",
    "df = df.dropna(subset=[\"purchaseDate\"])\n",
    "\n",
    "print(df.isna().sum()) "
   ]
  },
  {
   "cell_type": "code",
   "execution_count": 6,
   "metadata": {},
   "outputs": [
    {
     "name": "stdout",
     "output_type": "stream",
     "text": [
      "0      02-12-2020\n",
      "2      27/05/2022\n",
      "3      01-17-2021\n",
      "4      21/04/2021\n",
      "5      01-24-2023\n",
      "          ...    \n",
      "994    16/05/2022\n",
      "995    2021/07/26\n",
      "996    2020-02-07\n",
      "997    2020-10-14\n",
      "998    05/01/2023\n",
      "Name: purchaseDate, Length: 797, dtype: object\n",
      "0      02-12-2020\n",
      "2      27-05-2022\n",
      "3      17-01-2021\n",
      "4      21-04-2021\n",
      "5      24-01-2023\n",
      "          ...    \n",
      "994    16-05-2022\n",
      "995    26-07-2021\n",
      "996    07-02-2020\n",
      "997    14-10-2020\n",
      "998    05-01-2023\n",
      "Name: purchaseDate, Length: 797, dtype: object\n",
      "<bound method Series.isna of 0      02-12-2020\n",
      "2      27-05-2022\n",
      "3      17-01-2021\n",
      "4      21-04-2021\n",
      "5      24-01-2023\n",
      "          ...    \n",
      "994    16-05-2022\n",
      "995    26-07-2021\n",
      "996    07-02-2020\n",
      "997    14-10-2020\n",
      "998    05-01-2023\n",
      "Name: purchaseDate, Length: 797, dtype: object>\n"
     ]
    }
   ],
   "source": [
    "# Tarih formatlarını uygun hale getirme\n",
    "print(df[\"purchaseDate\"])\n",
    "\n",
    "# Farklı formatları belirleyerek tek tipe dönüştürme\n",
    "def fix_date_format(date_str):\n",
    "    for fmt in (\"%d-%m-%Y\", \"%m-%d-%Y\", \"%d/%m/%Y\",\"%Y/%m/%d\",\"%Y-%m-%d\"):\n",
    "        try:\n",
    "            return pd.to_datetime(date_str, format=fmt)\n",
    "        except ValueError:\n",
    "            continue\n",
    "    return pd.NaT  # Eğer format uymuyorsa NaT döndür\n",
    "\n",
    "\n",
    "# Fonksiyonu veri setine uygula\n",
    "df[\"purchaseDate\"] = df[\"purchaseDate\"].apply(fix_date_format)\n",
    "\n",
    "# Tarihleri DD-MM-YYYY formatında string olarak sakla\n",
    "df[\"purchaseDate\"] = df[\"purchaseDate\"].dt.strftime(\"%d-%m-%Y\")\n",
    "\n",
    "print(df[\"purchaseDate\"])\n",
    "\n",
    "#NaT olan veri var mı kontrolunu sağladık.\n",
    "print(df[\"purchaseDate\"].isna)\n"
   ]
  },
  {
   "cell_type": "code",
   "execution_count": 20,
   "metadata": {},
   "outputs": [
    {
     "name": "stdout",
     "output_type": "stream",
     "text": [
      "En popüler ürün (Satış ve Memnuniyete Göre): Desk Chair\n"
     ]
    }
   ],
   "source": [
    "df[\"best_score\"] = df[\"quantity\"] * df[\"customers_score\"]\n",
    "best_product = df.groupby(\"product_name\")[\"best_score\"].sum().idxmax()\n",
    "print(f\"En popüler ürün (Satış ve Memnuniyete Göre): {best_product}\")\n",
    "\n",
    "df[df[\"product_name\"] == \"Desk Chair\"]\n",
    "df.loc[df[\"product_name\"] == \"Desk Chair\", \"price\"] *= 1.10\n"
   ]
  },
  {
   "cell_type": "code",
   "execution_count": null,
   "metadata": {},
   "outputs": [],
   "source": [
    "df[df[\"product_name\"] == \"Desk Chair\"]"
   ]
  },
  {
   "cell_type": "code",
   "execution_count": null,
   "metadata": {},
   "outputs": [],
   "source": [
    "df.loc[df[\"product_name\"] == \"Desk Chair\", \"price\"] *= 1.10"
   ]
  },
  {
   "cell_type": "code",
   "execution_count": 21,
   "metadata": {},
   "outputs": [
    {
     "name": "stdout",
     "output_type": "stream",
     "text": [
      "product_name\n",
      "                  247.689199\n",
      "Sunglasses        234.000000\n",
      "Headphones        227.682927\n",
      "Running Shoes     223.819277\n",
      "Smartphone        220.682927\n",
      "Tablet            212.492683\n",
      "Gaming Console    208.556098\n",
      "Desk Chair        202.241379\n",
      "Wristwatch        184.428571\n",
      "Laptop            180.936585\n",
      "Name: quantity, dtype: float64\n"
     ]
    }
   ],
   "source": [
    "#3\n",
    "top_selling_products = df.groupby(\"product_name\")[\"quantity\"].sum().sort_values(ascending=False)\n",
    "print(top_selling_products.head(10))  # En çok satılan 10 ürünü göster\n"
   ]
  },
  {
   "cell_type": "code",
   "execution_count": 22,
   "metadata": {},
   "outputs": [
    {
     "name": "stdout",
     "output_type": "stream",
     "text": [
      "             price  quantity\n",
      "price     1.000000 -0.035924\n",
      "quantity -0.035924  1.000000\n"
     ]
    }
   ],
   "source": [
    "correlation = df[[\"price\", \"quantity\"]].corr()\n",
    "print(correlation)\n"
   ]
  },
  {
   "cell_type": "code",
   "execution_count": 24,
   "metadata": {},
   "outputs": [
    {
     "name": "stdout",
     "output_type": "stream",
     "text": [
      "categories\n",
      "Accessories     970.439572\n",
      "Electronics    1025.546562\n",
      "Fashion         931.688341\n",
      "Footwear       1026.338953\n",
      "Furniture      1039.164555\n",
      "Name: price, dtype: float64\n"
     ]
    }
   ],
   "source": [
    "average_price_per_category = df.groupby(\"categories\")[\"price\"].mean()\n",
    "print(average_price_per_category)\n"
   ]
  },
  {
   "cell_type": "code",
   "execution_count": null,
   "metadata": {},
   "outputs": [
    {
     "name": "stdout",
     "output_type": "stream",
     "text": [
      "product_name\n",
      "Sunglasses        74.857143\n",
      "Laptop            58.936585\n",
      "Headphones        58.873171\n",
      "Smartphone        57.873171\n",
      "Desk Chair        51.000000\n",
      "Running Shoes     47.000000\n",
      "Tablet            43.873171\n",
      "Wristwatch        43.714286\n",
      "Gaming Console    39.873171\n",
      "                  36.873171\n",
      "Name: quantity, dtype: float64\n"
     ]
    }
   ],
   "source": [
    "df[\"purchaseDate\"] = pd.to_datetime(df[\"purchaseDate\"], dayfirst=True)  # Tarih formatını düzelt\n",
    "filtered_data = df[df[\"purchaseDate\"].dt.year == 2024]  # 2024 yılını filtrele\n",
    "top_products_2024 = filtered_data.groupby(\"product_name\")[\"quantity\"].sum().sort_values(ascending=False)\n",
    "print(top_products_2024.head(10))  # En çok satılan 10 ürünü göster\n"
   ]
  },
  {
   "cell_type": "code",
   "execution_count": null,
   "metadata": {},
   "outputs": [
    {
     "name": "stdout",
     "output_type": "stream",
     "text": [
      "spending_level\n",
      "Düşük      77\n",
      "Orta      279\n",
      "Yüksek    441\n",
      "Name: product_id, dtype: int64\n"
     ]
    }
   ],
   "source": [
    "df[\"total_expenditure\"] = df[\"price\"] * df[\"quantity\"]  # Toplam harcama hesapla\n",
    "\n",
    "def total_expenditure(x):\n",
    "    if x < 500:\n",
    "        return \"low\"\n",
    "    elif x < 2000:\n",
    "        return \"middle\"\n",
    "    else:\n",
    "        return \"high\"\n",
    "\n",
    "df[\"spending_level\"] = df[\"total_expenditure\"].apply(total_expenditure)\n",
    "spending_grups = df.groupby(\"spending_level\")[\"product_id\"].nunique()  # Kaç müşteri olduğunu say\n",
    "print(spending_grups)\n"
   ]
  },
  {
   "cell_type": "code",
   "execution_count": 30,
   "metadata": {},
   "outputs": [
    {
     "name": "stdout",
     "output_type": "stream",
     "text": [
      "categories\n",
      "Accessories     970.439572\n",
      "Electronics    1025.546562\n",
      "Fashion         931.688341\n",
      "Footwear       1026.338953\n",
      "Furniture      1039.164555\n",
      "Name: price, dtype: float64\n"
     ]
    }
   ],
   "source": [
    "#4\n",
    "average_price_per_category = df.groupby(\"categories\")[\"price\"].mean()\n",
    "print(average_price_per_category)\n"
   ]
  },
  {
   "cell_type": "code",
   "execution_count": 52,
   "metadata": {},
   "outputs": [],
   "source": [
    "def price_status(row, average_price_per_category):\n",
    "    category_average_price = average_price_per_category.get(row[\"categories\"], 0)\n",
    "    if category_average_price == 0:  # Kategorinin ortalama fiyatı bulunamazsa\n",
    "        return \"null\"\n",
    "    if row[\"price\"] > category_average_price * 2:\n",
    "        return \"extremely expensive\"\n",
    "    elif row[\"price\"] < category_average_price / 2:\n",
    "        return \"extremely cheap\"\n",
    "    else:\n",
    "        return \"ordinary\"\n",
    "\n",
    "df[\"price_status\"] = df.apply(price_status, axis=1, average_price_per_category=average_price_per_category)\n"
   ]
  },
  {
   "cell_type": "code",
   "execution_count": 53,
   "metadata": {},
   "outputs": [
    {
     "name": "stdout",
     "output_type": "stream",
     "text": [
      "          price         price_status\n",
      "0   1026.914253             ordinary\n",
      "2   1351.160000             ordinary\n",
      "3   1605.220000             ordinary\n",
      "4    877.020000             ordinary\n",
      "5           NaN             ordinary\n",
      "6    673.700000             ordinary\n",
      "7   1576.950000             ordinary\n",
      "8           NaN             ordinary\n",
      "9   2150.599000  extremely expensive\n",
      "10  1026.914253             ordinary\n"
     ]
    }
   ],
   "source": [
    "print(df[[ \"price\", \"price_status\"]].head(10))\n"
   ]
  },
  {
   "cell_type": "code",
   "execution_count": 54,
   "metadata": {},
   "outputs": [],
   "source": [
    "# \"Aşırı Ucuz\" olan ürünleri kategori ortalamasına eşitleme ve NaN değerleri kontrol etme\n",
    "df.loc[df[\"price_status\"] == \"extremely cheap\", \"price\"] = df.loc[df[\"price_status\"] == \"extremely cheap\"].apply(\n",
    "    lambda row: average_price_per_category.get(row[\"categories\"], row[\"price\"]) if pd.isna(row[\"price\"]) or row[\"price\"] == \"extremely cheap\" \n",
    "    else row[\"price\"], axis=1)\n"
   ]
  },
  {
   "cell_type": "code",
   "execution_count": 55,
   "metadata": {},
   "outputs": [
    {
     "name": "stdout",
     "output_type": "stream",
     "text": [
      "          price         price_status\n",
      "0   1026.914253             ordinary\n",
      "2   1351.160000             ordinary\n",
      "3   1605.220000             ordinary\n",
      "4    877.020000             ordinary\n",
      "5           NaN             ordinary\n",
      "6    673.700000             ordinary\n",
      "7   1576.950000             ordinary\n",
      "8           NaN             ordinary\n",
      "9   2150.599000  extremely expensive\n",
      "10  1026.914253             ordinary\n"
     ]
    }
   ],
   "source": [
    "print(df[[ \"price\", \"price_status\"]].head(10))\n"
   ]
  },
  {
   "cell_type": "code",
   "execution_count": null,
   "metadata": {},
   "outputs": [],
   "source": []
  }
 ],
 "metadata": {
  "kernelspec": {
   "display_name": "BTK-AI",
   "language": "python",
   "name": "python3"
  },
  "language_info": {
   "codemirror_mode": {
    "name": "ipython",
    "version": 3
   },
   "file_extension": ".py",
   "mimetype": "text/x-python",
   "name": "python",
   "nbconvert_exporter": "python",
   "pygments_lexer": "ipython3",
   "version": "3.11.9"
  }
 },
 "nbformat": 4,
 "nbformat_minor": 2
}
