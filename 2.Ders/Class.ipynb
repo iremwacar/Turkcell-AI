{
 "cells": [
  {
   "cell_type": "code",
   "execution_count": 5,
   "metadata": {},
   "outputs": [],
   "source": [
    "class MyMath: \n",
    "    \n",
    "    def __init__(self): #python selfi parametre olarak görmüyor.\n",
    "        print(\"sınıf oluştu\")\n",
    "\n",
    "    def sum(self,number1,number2):\n",
    "        return number1+number2\n",
    "\n",
    "    def subtract(self,number1,number2):\n",
    "        return number1-number2\n",
    "    \n",
    "    def multiply(self,number1,number2):\n",
    "        return number1*number2\n",
    "    \n",
    "    def divide(self,number1,number2):\n",
    "        return number1/number2"
   ]
  },
  {
   "cell_type": "code",
   "execution_count": 6,
   "metadata": {},
   "outputs": [
    {
     "name": "stdout",
     "output_type": "stream",
     "text": [
      "sınıf oluştu\n"
     ]
    },
    {
     "data": {
      "text/plain": [
       "6"
      ]
     },
     "execution_count": 6,
     "metadata": {},
     "output_type": "execute_result"
    }
   ],
   "source": [
    "myMath = MyMath()#statik çağırma. \n",
    "result = myMath.sum(1,5)\n",
    "result"
   ]
  },
  {
   "cell_type": "code",
   "execution_count": 9,
   "metadata": {},
   "outputs": [],
   "source": [
    "class MyMath2: \n",
    "    \n",
    "    def __init__(self,number1,number2): \n",
    "        #python selfi parametre olarak görmüyor.\n",
    "        #init ile parametre alıp işlemler yapabiliyoruz.Class başında sabit parametreler için kulanılır.\n",
    "        #self, Classın parametrelerine ulaşmay sağlar.\n",
    "        self.number1 = number1\n",
    "        self.number2 = number2\n",
    "\n",
    "    def sum(self):\n",
    "        return self.number1+self.number2\n",
    "\n",
    "    def subtract(self):\n",
    "        return self.number1-self.number2\n",
    "    \n",
    "    def multiply(self):\n",
    "        return self.number1*self.number2\n",
    "    \n",
    "    def divide(self):\n",
    "        return self.number1/self.number2"
   ]
  },
  {
   "cell_type": "code",
   "execution_count": 11,
   "metadata": {},
   "outputs": [
    {
     "name": "stdout",
     "output_type": "stream",
     "text": [
      "5\n",
      "0.6666666666666666\n",
      "6\n",
      "-1\n"
     ]
    }
   ],
   "source": [
    "x = MyMath2(2,3)\n",
    "print(x.sum())\n",
    "print(x.divide())\n",
    "print(x.multiply())\n",
    "print(x.subtract())"
   ]
  },
  {
   "cell_type": "code",
   "execution_count": 14,
   "metadata": {},
   "outputs": [
    {
     "name": "stdout",
     "output_type": "stream",
     "text": [
      "Elma\n",
      "Armut\n"
     ]
    }
   ],
   "source": [
    "class Product:\n",
    "    def __init__(self,id,name,unitPrice):\n",
    "        self.id = id\n",
    "        self.name = name\n",
    "        self.unitPrice = unitPrice\n",
    "        \n",
    "        \n",
    "product1 = Product(1,\"Elma\",20)\n",
    "product2 = Product(2,\"Armut\",30)\n",
    "\n",
    "products =[product1,product2]\n",
    "for product in products:\n",
    "    print(product.name)"
   ]
  },
  {
   "cell_type": "code",
   "execution_count": 13,
   "metadata": {},
   "outputs": [
    {
     "data": {
      "text/plain": [
       "'Elma'"
      ]
     },
     "execution_count": 13,
     "metadata": {},
     "output_type": "execute_result"
    }
   ],
   "source": []
  }
 ],
 "metadata": {
  "kernelspec": {
   "display_name": "BTK-AI",
   "language": "python",
   "name": "python3"
  },
  "language_info": {
   "codemirror_mode": {
    "name": "ipython",
    "version": 3
   },
   "file_extension": ".py",
   "mimetype": "text/x-python",
   "name": "python",
   "nbconvert_exporter": "python",
   "pygments_lexer": "ipython3",
   "version": "3.11.9"
  }
 },
 "nbformat": 4,
 "nbformat_minor": 2
}
