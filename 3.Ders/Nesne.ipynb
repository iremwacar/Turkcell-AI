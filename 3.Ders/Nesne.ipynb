{
 "cells": [
  {
   "cell_type": "code",
   "execution_count": 6,
   "metadata": {},
   "outputs": [],
   "source": [
    "class Todo:\n",
    "    def __init__(self,id,userId,title,completed,user):\n",
    "        self.id = id\n",
    "        self.userId = userId\n",
    "        self.title = title\n",
    "        self.completed = completed\n",
    "        self.user=user"
   ]
  },
  {
   "cell_type": "code",
   "execution_count": 10,
   "metadata": {},
   "outputs": [
    {
     "name": "stdout",
     "output_type": "stream",
     "text": [
      "Yemek yap\n",
      "irem\n"
     ]
    }
   ],
   "source": [
    "todo1 = Todo(1,1,\"Yemek yap\", False,user1)\n",
    "print(todo1.title)\n",
    "print(todo1.user.name)"
   ]
  },
  {
   "cell_type": "code",
   "execution_count": 3,
   "metadata": {},
   "outputs": [],
   "source": [
    "class User:\n",
    "    def __init__(self,id,name,username,email):\n",
    "        self.id = id\n",
    "        self.name = name\n",
    "        self.username = username \n",
    "        self.email = email\n",
    "        "
   ]
  },
  {
   "cell_type": "code",
   "execution_count": 4,
   "metadata": {},
   "outputs": [
    {
     "data": {
      "text/plain": [
       "'irem'"
      ]
     },
     "execution_count": 4,
     "metadata": {},
     "output_type": "execute_result"
    }
   ],
   "source": [
    "user1 = User(1,\"irem\",\"iremacar\",\"iremmacar35@gmail.com\")\n",
    "user1.name"
   ]
  },
  {
   "cell_type": "code",
   "execution_count": null,
   "metadata": {},
   "outputs": [],
   "source": []
  }
 ],
 "metadata": {
  "kernelspec": {
   "display_name": "BTK-AI",
   "language": "python",
   "name": "python3"
  },
  "language_info": {
   "codemirror_mode": {
    "name": "ipython",
    "version": 3
   },
   "file_extension": ".py",
   "mimetype": "text/x-python",
   "name": "python",
   "nbconvert_exporter": "python",
   "pygments_lexer": "ipython3",
   "version": "3.11.9"
  }
 },
 "nbformat": 4,
 "nbformat_minor": 2
}
