{
 "cells": [
  {
   "cell_type": "code",
   "execution_count": null,
   "metadata": {},
   "outputs": [],
   "source": [
    "class Photos:\n",
    "    def __init__(self,albumId,title,url,thumbnailUrl):\n",
    "        self.albumId = albumId\n",
    "        self.title = title\n",
    "        self.url = url\n",
    "        self.thumbnailUrl = thumbnailUrl"
   ]
  },
  {
   "cell_type": "code",
   "execution_count": null,
   "metadata": {},
   "outputs": [],
   "source": [
    "class Albums:\n",
    "    def __init__(self,userId,id,title):\n",
    "        self.id = id\n",
    "        self.userId = userId\n",
    "        self.title = title"
   ]
  },
  {
   "cell_type": "code",
   "execution_count": null,
   "metadata": {},
   "outputs": [],
   "source": [
    "class Users:\n",
    "    def __init__(self,id,name,username,email,address,phone,website,company):\n",
    "            self.id = id\n",
    "            self.name = name\n",
    "            self.username = username\n",
    "            self.email= email\n",
    "            self.adress = address\n",
    "            self.phone = phone\n",
    "            self.website = website\n",
    "            self.company = company\n",
    "            \n",
    "            \n",
    "class Adress:\n",
    "    def __init__(self,street, suite,city,zipcode,geo):\n",
    "         self.street = street\n",
    "         self.suite = suite\n",
    "         self.city =  city\n",
    "         self.zipcode = zipcode\n",
    "         self.geo = geo\n",
    "         \n",
    "         \n",
    "class Geo:\n",
    "    def __init__(self,lat,lng):\n",
    "         self.lat = lat\n",
    "         self.lng = lng\n",
    "         \n",
    "         \n",
    "         \n",
    "class Company:\n",
    "    def __init__(self,name,catchPhrase,bs):\n",
    "         self.name = name\n",
    "         self.catchPhrase = catchPhrase\n",
    "         self.bs = bs"
   ]
  }
 ],
 "metadata": {
  "kernelspec": {
   "display_name": "BTK-AI",
   "language": "python",
   "name": "python3"
  },
  "language_info": {
   "name": "python",
   "version": "3.11.9"
  }
 },
 "nbformat": 4,
 "nbformat_minor": 2
}
